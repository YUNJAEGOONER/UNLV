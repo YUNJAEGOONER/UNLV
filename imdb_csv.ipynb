{
 "cells": [
  {
   "cell_type": "code",
   "execution_count": 20,
   "metadata": {},
   "outputs": [],
   "source": [
    "import keras"
   ]
  },
  {
   "cell_type": "code",
   "execution_count": 21,
   "metadata": {},
   "outputs": [],
   "source": [
    "import pandas as pd\n",
    "import numpy as np\n",
    "\n",
    "data = pd.read_csv('imdb_10000.csv')"
   ]
  },
  {
   "cell_type": "code",
   "execution_count": 22,
   "metadata": {},
   "outputs": [
    {
     "data": {
      "text/html": [
       "<div>\n",
       "<style scoped>\n",
       "    .dataframe tbody tr th:only-of-type {\n",
       "        vertical-align: middle;\n",
       "    }\n",
       "\n",
       "    .dataframe tbody tr th {\n",
       "        vertical-align: top;\n",
       "    }\n",
       "\n",
       "    .dataframe thead th {\n",
       "        text-align: right;\n",
       "    }\n",
       "</style>\n",
       "<table border=\"1\" class=\"dataframe\">\n",
       "  <thead>\n",
       "    <tr style=\"text-align: right;\">\n",
       "      <th></th>\n",
       "      <th>review</th>\n",
       "      <th>sentiment</th>\n",
       "    </tr>\n",
       "  </thead>\n",
       "  <tbody>\n",
       "    <tr>\n",
       "      <td>0</td>\n",
       "      <td>One of the other reviewers has mentioned that ...</td>\n",
       "      <td>positive</td>\n",
       "    </tr>\n",
       "    <tr>\n",
       "      <td>1</td>\n",
       "      <td>A wonderful little production. &lt;br /&gt;&lt;br /&gt;The...</td>\n",
       "      <td>positive</td>\n",
       "    </tr>\n",
       "    <tr>\n",
       "      <td>2</td>\n",
       "      <td>I thought this was a wonderful way to spend ti...</td>\n",
       "      <td>positive</td>\n",
       "    </tr>\n",
       "    <tr>\n",
       "      <td>3</td>\n",
       "      <td>Basically there's a family where a little boy ...</td>\n",
       "      <td>negative</td>\n",
       "    </tr>\n",
       "    <tr>\n",
       "      <td>4</td>\n",
       "      <td>Petter Mattei's \"Love in the Time of Money\" is...</td>\n",
       "      <td>positive</td>\n",
       "    </tr>\n",
       "    <tr>\n",
       "      <td>...</td>\n",
       "      <td>...</td>\n",
       "      <td>...</td>\n",
       "    </tr>\n",
       "    <tr>\n",
       "      <td>9994</td>\n",
       "      <td>First off, this is the worst movie I've ever s...</td>\n",
       "      <td>negative</td>\n",
       "    </tr>\n",
       "    <tr>\n",
       "      <td>9995</td>\n",
       "      <td>Fun, entertaining movie about WWII German spy ...</td>\n",
       "      <td>positive</td>\n",
       "    </tr>\n",
       "    <tr>\n",
       "      <td>9996</td>\n",
       "      <td>Give me a break. How can anyone say that this ...</td>\n",
       "      <td>negative</td>\n",
       "    </tr>\n",
       "    <tr>\n",
       "      <td>9997</td>\n",
       "      <td>This movie is a bad movie. But after watching ...</td>\n",
       "      <td>negative</td>\n",
       "    </tr>\n",
       "    <tr>\n",
       "      <td>9998</td>\n",
       "      <td>This is a movie that was probably made to ente...</td>\n",
       "      <td>negative</td>\n",
       "    </tr>\n",
       "  </tbody>\n",
       "</table>\n",
       "<p>9999 rows × 2 columns</p>\n",
       "</div>"
      ],
      "text/plain": [
       "                                                 review sentiment\n",
       "0     One of the other reviewers has mentioned that ...  positive\n",
       "1     A wonderful little production. <br /><br />The...  positive\n",
       "2     I thought this was a wonderful way to spend ti...  positive\n",
       "3     Basically there's a family where a little boy ...  negative\n",
       "4     Petter Mattei's \"Love in the Time of Money\" is...  positive\n",
       "...                                                 ...       ...\n",
       "9994  First off, this is the worst movie I've ever s...  negative\n",
       "9995  Fun, entertaining movie about WWII German spy ...  positive\n",
       "9996  Give me a break. How can anyone say that this ...  negative\n",
       "9997  This movie is a bad movie. But after watching ...  negative\n",
       "9998  This is a movie that was probably made to ente...  negative\n",
       "\n",
       "[9999 rows x 2 columns]"
      ]
     },
     "execution_count": 22,
     "metadata": {},
     "output_type": "execute_result"
    }
   ],
   "source": [
    "data"
   ]
  },
  {
   "cell_type": "code",
   "execution_count": 23,
   "metadata": {},
   "outputs": [],
   "source": [
    "x = data.review\n",
    "y = data.sentiment"
   ]
  },
  {
   "cell_type": "code",
   "execution_count": 24,
   "metadata": {},
   "outputs": [
    {
     "data": {
      "text/plain": [
       "1961"
      ]
     },
     "execution_count": 24,
     "metadata": {},
     "output_type": "execute_result"
    }
   ],
   "source": [
    "len(max(x))"
   ]
  },
  {
   "cell_type": "code",
   "execution_count": 25,
   "metadata": {},
   "outputs": [
    {
     "data": {
      "text/plain": [
       "0       positive\n",
       "1       positive\n",
       "2       positive\n",
       "3       negative\n",
       "4       positive\n",
       "          ...   \n",
       "9994    negative\n",
       "9995    positive\n",
       "9996    negative\n",
       "9997    negative\n",
       "9998    negative\n",
       "Name: sentiment, Length: 9999, dtype: object"
      ]
     },
     "execution_count": 25,
     "metadata": {},
     "output_type": "execute_result"
    }
   ],
   "source": [
    "y"
   ]
  },
  {
   "cell_type": "code",
   "execution_count": 26,
   "metadata": {},
   "outputs": [],
   "source": [
    "#positive = 1 negative = 0\n",
    "for i in range(0,len(y)):\n",
    "    if y[i] =='positive':\n",
    "        y[i] = 1\n",
    "    else:\n",
    "        y[i] = 0"
   ]
  },
  {
   "cell_type": "code",
   "execution_count": 27,
   "metadata": {},
   "outputs": [],
   "source": [
    "#문자 정수화 => 가장 빈번한 단어를 1로 설정\n",
    "from tensorflow.keras.preprocessing.text import Tokenizer\n",
    "tokenizer = Tokenizer()\n",
    "tokenizer.fit_on_texts(x)"
   ]
  },
  {
   "cell_type": "code",
   "execution_count": 28,
   "metadata": {},
   "outputs": [],
   "source": [
    "word_to_index = tokenizer.word_index"
   ]
  },
  {
   "cell_type": "code",
   "execution_count": 29,
   "metadata": {},
   "outputs": [],
   "source": [
    "vocab_size = len(word_to_index)+1\n",
    "#등장한 모든 단어의 수 (특성으로 사용할 단어의 수)"
   ]
  },
  {
   "cell_type": "code",
   "execution_count": 30,
   "metadata": {},
   "outputs": [],
   "source": [
    "x = tokenizer.texts_to_sequences(x)"
   ]
  },
  {
   "cell_type": "code",
   "execution_count": 31,
   "metadata": {},
   "outputs": [],
   "source": [
    "from keras.preprocessing import sequence\n",
    "x = sequence.pad_sequences(x, maxlen = 1961) \n",
    "#가장 긴 문장과 모든 문장의 길이를 통일"
   ]
  },
  {
   "cell_type": "code",
   "execution_count": 32,
   "metadata": {},
   "outputs": [
    {
     "data": {
      "text/plain": [
       "array([[   0,    0,    0, ...,  123, 3853,  484],\n",
       "       [   0,    0,    0, ..., 2154,   68,  214],\n",
       "       [   0,    0,    0, ...,   63,   16,  359],\n",
       "       ...,\n",
       "       [   0,    0,    0, ...,   25,   51, 2103],\n",
       "       [   0,    0,    0, ...,   15,  331,  153],\n",
       "       [   0,    0,    0, ...,   49,   17,   69]])"
      ]
     },
     "execution_count": 32,
     "metadata": {},
     "output_type": "execute_result"
    }
   ],
   "source": [
    "x"
   ]
  },
  {
   "cell_type": "code",
   "execution_count": 33,
   "metadata": {},
   "outputs": [
    {
     "data": {
      "text/plain": [
       "0       1\n",
       "1       1\n",
       "2       1\n",
       "3       0\n",
       "4       1\n",
       "       ..\n",
       "9994    0\n",
       "9995    1\n",
       "9996    0\n",
       "9997    0\n",
       "9998    0\n",
       "Name: sentiment, Length: 9999, dtype: object"
      ]
     },
     "execution_count": 33,
     "metadata": {},
     "output_type": "execute_result"
    }
   ],
   "source": [
    "y"
   ]
  },
  {
   "cell_type": "code",
   "execution_count": 34,
   "metadata": {},
   "outputs": [],
   "source": [
    "from sklearn.model_selection import train_test_split\n",
    "\n",
    "X_train, X_test, y_train, y_test = train_test_split(x, y, train_size=0.8, test_size=0.2, random_state=42)"
   ]
  },
  {
   "cell_type": "code",
   "execution_count": 35,
   "metadata": {},
   "outputs": [
    {
     "name": "stdout",
     "output_type": "stream",
     "text": [
      "Model: \"sequential_2\"\n",
      "_________________________________________________________________\n",
      "Layer (type)                 Output Shape              Param #   \n",
      "=================================================================\n",
      "embedding_2 (Embedding)      (None, 1961, 128)         7687040   \n",
      "_________________________________________________________________\n",
      "conv1d_3 (Conv1D)            (None, 1955, 128)         114816    \n",
      "_________________________________________________________________\n",
      "max_pooling1d_2 (MaxPooling1 (None, 391, 128)          0         \n",
      "_________________________________________________________________\n",
      "conv1d_4 (Conv1D)            (None, 385, 64)           57408     \n",
      "_________________________________________________________________\n",
      "global_max_pooling1d_2 (Glob (None, 64)                0         \n",
      "_________________________________________________________________\n",
      "dense_2 (Dense)              (None, 1)                 65        \n",
      "=================================================================\n",
      "Total params: 7,859,329\n",
      "Trainable params: 7,859,329\n",
      "Non-trainable params: 0\n",
      "_________________________________________________________________\n"
     ]
    }
   ],
   "source": [
    "from keras.models import Sequential\n",
    "from keras import layers\n",
    "\n",
    "\n",
    "model = Sequential()\n",
    "model.add(layers.Embedding(vocab_size, 128, input_length=1961))\n",
    "#model.add(layers.Conv1D(32, 7, activation='relu'))\n",
    "model.add(layers.Conv1D(128, 7, activation='relu'))\n",
    "model.add(layers.MaxPooling1D(5))\n",
    "\n",
    "model.add(layers.Conv1D(64, 7, activation='relu'))\n",
    "model.add(layers.GlobalMaxPooling1D())\n",
    "\n",
    "\n",
    "model.add(layers.Dense(1))\n",
    "\n",
    "model.summary()\n",
    "\n",
    "model.compile(optimizer= 'adam',loss='binary_crossentropy',metrics=['acc'])"
   ]
  },
  {
   "cell_type": "code",
   "execution_count": 36,
   "metadata": {},
   "outputs": [
    {
     "data": {
      "text/plain": [
       "5344    0\n",
       "7444    0\n",
       "1731    0\n",
       "8719    1\n",
       "4521    1\n",
       "       ..\n",
       "9448    1\n",
       "8284    0\n",
       "7852    1\n",
       "1095    0\n",
       "8871    1\n",
       "Name: sentiment, Length: 2000, dtype: object"
      ]
     },
     "execution_count": 36,
     "metadata": {},
     "output_type": "execute_result"
    }
   ],
   "source": [
    "y_test"
   ]
  },
  {
   "cell_type": "code",
   "execution_count": 37,
   "metadata": {
    "scrolled": true
   },
   "outputs": [
    {
     "data": {
      "text/plain": [
       "9253    1\n",
       "1561    1\n",
       "1670    1\n",
       "6086    0\n",
       "7332    1\n",
       "       ..\n",
       "5734    0\n",
       "5191    0\n",
       "5390    0\n",
       "860     1\n",
       "7270    0\n",
       "Name: sentiment, Length: 7999, dtype: object"
      ]
     },
     "execution_count": 37,
     "metadata": {},
     "output_type": "execute_result"
    }
   ],
   "source": [
    "y_train"
   ]
  },
  {
   "cell_type": "code",
   "execution_count": 38,
   "metadata": {},
   "outputs": [
    {
     "name": "stdout",
     "output_type": "stream",
     "text": [
      "Train on 6399 samples, validate on 1600 samples\n",
      "Epoch 1/15\n",
      "6399/6399 [==============================] - 328s 51ms/step - loss: 1.1994 - acc: 0.4930 - val_loss: 0.7718 - val_acc: 0.5106\n",
      "Epoch 2/15\n",
      "6399/6399 [==============================] - 318s 50ms/step - loss: 0.6724 - acc: 0.5967 - val_loss: 0.6875 - val_acc: 0.5569\n",
      "Epoch 3/15\n",
      "6399/6399 [==============================] - 287s 45ms/step - loss: 0.6087 - acc: 0.8215 - val_loss: 0.6766 - val_acc: 0.5944\n",
      "Epoch 4/15\n",
      "6399/6399 [==============================] - 147s 23ms/step - loss: 0.5565 - acc: 0.9258 - val_loss: 0.6643 - val_acc: 0.6381\n",
      "Epoch 5/15\n",
      "6399/6399 [==============================] - 151s 24ms/step - loss: 0.5093 - acc: 0.9562 - val_loss: 0.6521 - val_acc: 0.6675\n",
      "Epoch 6/15\n",
      "6399/6399 [==============================] - 150s 23ms/step - loss: 0.4629 - acc: 0.9680 - val_loss: 0.6369 - val_acc: 0.6781\n",
      "Epoch 7/15\n",
      "6399/6399 [==============================] - 150s 23ms/step - loss: 0.4137 - acc: 0.9737 - val_loss: 0.6188 - val_acc: 0.6906\n",
      "Epoch 8/15\n",
      "6399/6399 [==============================] - 150s 23ms/step - loss: 0.3607 - acc: 0.9755 - val_loss: 0.6002 - val_acc: 0.7044\n",
      "Epoch 9/15\n",
      "6399/6399 [==============================] - 151s 24ms/step - loss: 0.3059 - acc: 0.9764 - val_loss: 0.5979 - val_acc: 0.7119\n",
      "Epoch 10/15\n",
      "6399/6399 [==============================] - 150s 23ms/step - loss: 0.2500 - acc: 0.9767 - val_loss: 0.5876 - val_acc: 0.6969\n",
      "Epoch 11/15\n",
      "6399/6399 [==============================] - 151s 24ms/step - loss: 0.1926 - acc: 0.9734 - val_loss: 0.5928 - val_acc: 0.6969\n",
      "Epoch 12/15\n",
      "6399/6399 [==============================] - 150s 23ms/step - loss: 0.1300 - acc: 0.9642 - val_loss: 0.6477 - val_acc: 0.6875\n",
      "Epoch 13/15\n",
      "6399/6399 [==============================] - 148s 23ms/step - loss: 0.0774 - acc: 0.9573 - val_loss: 0.7622 - val_acc: 0.6944\n",
      "Epoch 14/15\n",
      "6399/6399 [==============================] - 148s 23ms/step - loss: 0.0457 - acc: 0.9522 - val_loss: 0.8507 - val_acc: 0.6925\n",
      "Epoch 15/15\n",
      "6399/6399 [==============================] - 6171s 964ms/step - loss: 0.0266 - acc: 0.9491 - val_loss: 0.9133 - val_acc: 0.6919\n"
     ]
    }
   ],
   "source": [
    "history = model.fit(X_train, y_train,epochs= 15 ,batch_size= 320,validation_split=0.2)\n",
    "\n",
    "#history = model.fit(X_train, y_train,epochs= 3 ,batch_size= 320,validation_split=0.2)"
   ]
  },
  {
   "cell_type": "code",
   "execution_count": 39,
   "metadata": {},
   "outputs": [],
   "source": [
    "import matplotlib.pyplot as plt"
   ]
  },
  {
   "cell_type": "code",
   "execution_count": 40,
   "metadata": {},
   "outputs": [
    {
     "data": {
      "text/plain": [
       "<matplotlib.legend.Legend at 0x26b2b5d1388>"
      ]
     },
     "execution_count": 40,
     "metadata": {},
     "output_type": "execute_result"
    },
    {
     "data": {
      "image/png": "[encoded data removed]",
      "text/plain": [
       "<Figure size 1440x720 with 1 Axes>"
      ]
     },
     "metadata": {
      "needs_background": "light"
     },
     "output_type": "display_data"
    }
   ],
   "source": [
    "plt.figure(figsize=(20,10))\n",
    "plt.plot(history.history[\"acc\"], label=\"acc\")\n",
    "plt.plot(history.history[\"val_acc\"], label=\"val_acc\")\n",
    "plt.ylabel(\"accuracy\")\n",
    "plt.xlabel(\"epoch\")\n",
    "plt.legend(loc=\"best\")"
   ]
  },
  {
   "cell_type": "code",
   "execution_count": 41,
   "metadata": {},
   "outputs": [
    {
     "data": {
      "image/png": "[encoded data removed]",
      "text/plain": [
       "<Figure size 1440x720 with 1 Axes>"
      ]
     },
     "metadata": {
      "needs_background": "light"
     },
     "output_type": "display_data"
    }
   ],
   "source": [
    "import matplotlib.pyplot as plt\n",
    "#epochs = range(len(history.history['loss']))\n",
    "plt.figure(figsize=(20,10))\n",
    "plt.plot(history.history['loss'])\n",
    "plt.plot(history.history['val_loss'])\n",
    "plt.title('model loss')\n",
    "plt.ylabel('loss')\n",
    "plt.xlabel('epoch')\n",
    "\n",
    "plt.legend(['train', 'val'], loc='upper right')\n",
    "\n",
    "plt.show()"
   ]
  },
  {
   "cell_type": "code",
   "execution_count": 42,
   "metadata": {},
   "outputs": [
    {
     "name": "stdout",
     "output_type": "stream",
     "text": [
      "2000/2000 [==============================] - 14s 7ms/step\n"
     ]
    }
   ],
   "source": [
    "test_acc, test_loss = model.evaluate(X_test, y_test)"
   ]
  },
  {
   "cell_type": "code",
   "execution_count": 43,
   "metadata": {},
   "outputs": [
    {
     "data": {
      "text/plain": [
       "(0.8958537635803223, 0.6970000267028809)"
      ]
     },
     "execution_count": 43,
     "metadata": {},
     "output_type": "execute_result"
    }
   ],
   "source": [
    "test_acc,test_loss"
   ]
  },
  {
   "cell_type": "code",
   "execution_count": 44,
   "metadata": {},
   "outputs": [
    {
     "data": {
      "text/plain": [
       "array([[    0,     0,     0, ...,     3,   393,   153],\n",
       "       [    0,     0,     0, ...,    11,    27,   826],\n",
       "       [    0,     0,     0, ...,   831,    33,  1263],\n",
       "       ...,\n",
       "       [    0,     0,     0, ...,     7, 54622, 54623],\n",
       "       [    0,     0,     0, ...,  1264,   123,   421],\n",
       "       [    0,     0,     0, ...,     2,    49,  7186]])"
      ]
     },
     "execution_count": 44,
     "metadata": {},
     "output_type": "execute_result"
    }
   ],
   "source": [
    "X_test"
   ]
  },
  {
   "cell_type": "code",
   "execution_count": 45,
   "metadata": {},
   "outputs": [
    {
     "data": {
      "text/plain": [
       "array([[    0,     0,     0, ...,  1006,     7,     7],\n",
       "       [    0,     0,     0, ...,    52,  1374,   394],\n",
       "       [    0,     0,     0, ...,   501,    10,   121],\n",
       "       ...,\n",
       "       [    0,     0,     0, ...,    42,     4,   153],\n",
       "       [    0,     0,     0, ...,   123,  5219, 13123],\n",
       "       [    0,     0,     0, ...,    51,    58, 20770]])"
      ]
     },
     "execution_count": 45,
     "metadata": {},
     "output_type": "execute_result"
    }
   ],
   "source": [
    "X_train"
   ]
  }
 ],
 "metadata": {
  "kernelspec": {
   "display_name": "Python 3",
   "language": "python",
   "name": "python3"
  },
  "language_info": {
   "codemirror_mode": {
    "name": "ipython",
    "version": 3
   },
   "file_extension": ".py",
   "mimetype": "text/x-python",
   "name": "python",
   "nbconvert_exporter": "python",
   "pygments_lexer": "ipython3",
   "version": "3.7.4"
  }
 },
 "nbformat": 4,
 "nbformat_minor": 4
}
